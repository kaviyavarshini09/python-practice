{
 "cells": [
  {
   "cell_type": "code",
   "execution_count": 19,
   "id": "bcbe2a21-6644-454f-8bdb-f12eeddc824d",
   "metadata": {},
   "outputs": [
    {
     "name": "stdout",
     "output_type": "stream",
     "text": [
      "kkk\n",
      "Ramesh\n",
      "Suresh\n",
      "drink: yes\n",
      "drink: no\n"
     ]
    }
   ],
   "source": [
    "class goa:\n",
    "    name='kkk'\n",
    "    drink=''\n",
    "    def party(self):\n",
    "       print(\"lets party\")\n",
    "    def beach(self):\n",
    "        print(\"lets enjoy beach\")\n",
    "ramesh=goa()\n",
    "suresh=goa()\n",
    "\n",
    "print(ramesh.name)\n",
    "ramesh.name=\"Ramesh\"\n",
    "suresh.name=\"Suresh\"\n",
    "ramesh.drink='yes'\n",
    "suresh.drink='no'\n",
    "print(ramesh.name)\n",
    "print(suresh.name)\n",
    "print('drink:',ramesh.drink)\n",
    "print('drink:',suresh.drink)"
   ]
  },
  {
   "cell_type": "code",
   "execution_count": 40,
   "id": "d9fac50d-03d1-4524-beaf-5e249380a0d1",
   "metadata": {},
   "outputs": [
    {
     "name": "stdout",
     "output_type": "stream",
     "text": [
      "60,000\n",
      "intel\n",
      "1tb\n",
      "1,00,000\n",
      "intel core\n",
      "2tb\n",
      "80,000\n",
      "intel plus\n",
      "3tb\n"
     ]
    }
   ],
   "source": [
    "class laptop:\n",
    "    price=''\n",
    "    processor=''\n",
    "    ram=''\n",
    "    def hp(self):\n",
    "        print('')\n",
    "hp=laptop()\n",
    "hp.price='60,000'\n",
    "hp.processor='intel'\n",
    "hp.ram='1tb'\n",
    "print(hp.price)\n",
    "print(hp.processor)\n",
    "print(hp.ram)\n",
    "def dell(self):\n",
    "    print('')\n",
    "dell=laptop()\n",
    "dell.price='1,00,000'\n",
    "dell.processor='intel core'\n",
    "dell.ram='2tb'\n",
    "print(dell.price)\n",
    "print(dell.processor)\n",
    "print(dell.ram)\n",
    "def lenovo(self):\n",
    "    print('')\n",
    "lenovo=laptop()\n",
    "lenovo.price='80,000'\n",
    "lenovo.processor='intel plus'\n",
    "lenovo.ram='3tb'\n",
    "print(lenovo.price)\n",
    "print(lenovo.processor)\n",
    "print(lenovo.ram)"
   ]
  },
  {
   "cell_type": "code",
   "execution_count": 2,
   "id": "c7c72373-6906-4b52-883c-773f8598f194",
   "metadata": {},
   "outputs": [
    {
     "name": "stdout",
     "output_type": "stream",
     "text": [
      "demo\n"
     ]
    }
   ],
   "source": [
    "class laptop:\n",
    "    def __init__(self):\n",
    "        print('demo')\n",
    "    def display(self):\n",
    "        print('display')\n",
    "hp=laptop()\n"
   ]
  },
  {
   "cell_type": "code",
   "execution_count": 4,
   "id": "c8fbdb65-4db8-4af5-847c-60e945b396da",
   "metadata": {},
   "outputs": [
    {
     "name": "stdout",
     "output_type": "stream",
     "text": [
      "i6\n"
     ]
    }
   ],
   "source": [
    "class laptop:\n",
    "    def __init__(self):\n",
    "        self.price=0\n",
    "        self.ram=''\n",
    "        self.processor=''\n",
    "hp=laptop()\n",
    "hp.price=50000\n",
    "hp.ram='8gb'\n",
    "hp.processor='i6'\n",
    "print(hp.processor)"
   ]
  },
  {
   "cell_type": "code",
   "execution_count": 12,
   "id": "c12908a8-4b57-4121-a6a8-b5996820a818",
   "metadata": {},
   "outputs": [
    {
     "name": "stdout",
     "output_type": "stream",
     "text": [
      "display\n",
      "ram: 8gb\n",
      "processor: i6\n",
      "display\n",
      "ram: 10gb\n",
      "processor: i7\n"
     ]
    }
   ],
   "source": [
    "class laptop:\n",
    "    def __init__(self):\n",
    "        self.ram=''\n",
    "        self.processor=''\n",
    "    def display(self):\n",
    "        print('display')\n",
    "        print('ram:',self.ram)\n",
    "        print('processor:',self.processor)\n",
    "hp=laptop()\n",
    "dell=laptop()\n",
    "\n",
    "hp.ram='8gb'\n",
    "hp.processor='i6'\n",
    "\n",
    "dell.ram='10gb'\n",
    "dell.processor='i7'\n",
    "\n",
    "hp.display()\n",
    "dell.display()"
   ]
  },
  {
   "cell_type": "code",
   "execution_count": 32,
   "id": "5fd07515-3f77-48e1-a50c-b590620c40be",
   "metadata": {},
   "outputs": [
    {
     "name": "stdout",
     "output_type": "stream",
     "text": [
      "name : akhil\n",
      "registerno : 1\n",
      "name : jayam\n",
      "registerno : 10\n"
     ]
    }
   ],
   "source": [
    "class student:\n",
    "    def __init__(self):\n",
    "        self.name='kaviya'\n",
    "        self.registerno= 23\n",
    "    def display(self):\n",
    "        print('name :',self.name)\n",
    "        print('registerno :',self.registerno)\n",
    "s1=student()\n",
    "s2=student()\n",
    "\n",
    "s1.name='akhil'\n",
    "s1.registerno=1\n",
    "\n",
    "s2.name='jayam'\n",
    "s2.registerno=10\n",
    "\n",
    "s1.display()\n",
    "s2.display()"
   ]
  },
  {
   "cell_type": "code",
   "execution_count": 35,
   "id": "1056b1a1-e7b9-4135-b464-912ac12c5570",
   "metadata": {},
   "outputs": [
    {
     "name": "stdout",
     "output_type": "stream",
     "text": [
      "red\n"
     ]
    }
   ],
   "source": [
    "class fruit:\n",
    "    def __init__(self,col):\n",
    "        self.color=col\n",
    "apple=fruit('red')\n",
    "print(apple.color)"
   ]
  },
  {
   "cell_type": "code",
   "execution_count": 42,
   "id": "023ffc73-7711-478c-a4c2-24730dc8bb66",
   "metadata": {},
   "outputs": [
    {
     "name": "stdout",
     "output_type": "stream",
     "text": [
      "name: kaviya\n",
      "regno: 22\n",
      "name: shree\n",
      "regno: 32\n"
     ]
    }
   ],
   "source": [
    "class teacher:\n",
    "    def __init__(self,name,regno):\n",
    "        self.name=name\n",
    "        self.regno=regno\n",
    "    def display(self):\n",
    "        print('name:',self.name)\n",
    "        print('regno:',self.regno)\n",
    "        \n",
    "t1=teacher('kaviya',22)\n",
    "t2=teacher('shree',32)\n",
    "\n",
    "t1.display()\n",
    "t2.display()\n"
   ]
  },
  {
   "cell_type": "code",
   "execution_count": 49,
   "id": "8cd0eca7-a57d-4f77-a79f-84a70837fcfe",
   "metadata": {},
   "outputs": [
    {
     "name": "stdout",
     "output_type": "stream",
     "text": [
      "add: 15\n"
     ]
    }
   ],
   "source": [
    "class calculator:\n",
    "    def __init__(self,a,b):\n",
    "        self.num1= a\n",
    "        self.num2= b\n",
    "    def add(self):\n",
    "        print('add:', self.num1 + self.num2)\n",
    "    def sub(self):\n",
    "        print('sub:',self.num1-self.num2)\n",
    "    def mul(self):\n",
    "        print('mul:',self.num1*self.num2)\n",
    "    def div(self):\n",
    "        print('div:',self.num1/self.num2)\n",
    "        \n",
    "values=calculator(10,5)\n",
    "values.add()\n",
    "        "
   ]
  },
  {
   "cell_type": "code",
   "execution_count": 54,
   "id": "204cd389-e1ee-48bc-b153-c3f277a6c9f1",
   "metadata": {},
   "outputs": [
    {
     "name": "stdout",
     "output_type": "stream",
     "text": [
      "add: 12\n"
     ]
    }
   ],
   "source": [
    "class calculator:\n",
    "    def add(self,a,b):\n",
    "        print('add:',a+b)\n",
    "obj=calculator()\n",
    "obj.add(10,2)"
   ]
  },
  {
   "cell_type": "code",
   "execution_count": null,
   "id": "6be5199e-84f7-45c6-a141-0048d3d69409",
   "metadata": {},
   "outputs": [],
   "source": []
  }
 ],
 "metadata": {
  "kernelspec": {
   "display_name": "Python 3 (ipykernel)",
   "language": "python",
   "name": "python3"
  },
  "language_info": {
   "codemirror_mode": {
    "name": "ipython",
    "version": 3
   },
   "file_extension": ".py",
   "mimetype": "text/x-python",
   "name": "python",
   "nbconvert_exporter": "python",
   "pygments_lexer": "ipython3",
   "version": "3.12.7"
  }
 },
 "nbformat": 4,
 "nbformat_minor": 5
}
